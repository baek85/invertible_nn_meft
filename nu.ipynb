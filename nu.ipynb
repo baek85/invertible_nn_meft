{
 "cells": [
  {
   "cell_type": "code",
   "execution_count": 10,
   "metadata": {},
   "outputs": [
    {
     "name": "stdout",
     "output_type": "stream",
     "text": [
      "tensor(0.)\n",
      "tensor(-0.5000)\n",
      "tensor(-0.5000)\n"
     ]
    }
   ],
   "source": [
    "import torch\n",
    "\n",
    "x = torch.tensor(0.5).to(torch.float32)\n",
    "y1 = x * (2**24-1)\n",
    "print(x + y1 - y1 - x)\n",
    "\n",
    "y2 = x * (2**24)\n",
    "print(x + y2 - y2 - x)\n",
    "\n",
    "result = x + y2\n",
    "residual = result - y2 - x\n",
    "print(residual)\n",
    "\n"
   ]
  }
 ],
 "metadata": {
  "kernelspec": {
   "display_name": "vida",
   "language": "python",
   "name": "python3"
  },
  "language_info": {
   "codemirror_mode": {
    "name": "ipython",
    "version": 3
   },
   "file_extension": ".py",
   "mimetype": "text/x-python",
   "name": "python",
   "nbconvert_exporter": "python",
   "pygments_lexer": "ipython3",
   "version": "3.9.7"
  }
 },
 "nbformat": 4,
 "nbformat_minor": 2
}
